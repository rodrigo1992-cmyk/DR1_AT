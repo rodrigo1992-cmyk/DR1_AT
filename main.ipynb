{
 "cells": [
  {
   "cell_type": "markdown",
   "metadata": {},
   "source": [
    "# Rodrigo_Mesquita_DR3_AT\n",
    "## Desenvolvimento Front-End com Python (com Streamlit) [24E3_1]"
   ]
  },
  {
   "cell_type": "markdown",
   "metadata": {},
   "source": [
    "#### Notebook disponível em: https://github.com/rodrigo1992-cmyk/DR1_AT"
   ]
  },
  {
   "cell_type": "markdown",
   "metadata": {},
   "source": [
    "#### Deploy do App disponível em: "
   ]
  },
  {
   "cell_type": "code",
   "execution_count": null,
   "metadata": {},
   "outputs": [],
   "source": [
    "streamlit run app.py --server.port=8086 --browser.serverAddress='177.192.12.238"
   ]
  },
  {
   "cell_type": "markdown",
   "metadata": {},
   "source": [
    "## 1. Preparar o ambiente de desenvolvimento:\n",
    "* Crie um ambiente virtual para seu projeto utilizando uma ferramenta como venv, virtualenv ou pipenv.\n",
    "* Instale as bibliotecas necessárias (Streamlit, statsbombpy, mplsoccer, matplotlib, entre outras)."
   ]
  },
  {
   "cell_type": "markdown",
   "metadata": {},
   "source": [
    "## 2. Estruturar o projeto:\n",
    "* Crie um repositório no GitHub para hospedar o código do seu projeto.\n",
    "* Garanta que o repositório contenha um arquivo requirements.txt com as dependências necessárias para rodar o projeto.\n",
    "* Organize o código de forma clara, criando funções separadas para carregar os dados, gerar as visualizações e construir a interface do dashboard."
   ]
  },
  {
   "cell_type": "markdown",
   "metadata": {},
   "source": [
    "## 3. Definir a estrutura do dashboard:\n",
    "* Desenvolva uma interface interativa em Streamlit que permita ao usuário selecionar:\n",
    "* Um campeonato específico.\n",
    "* Uma temporada (ano).\n",
    "* Uma partida ou jogador para análise.\n",
    "* Organize o layout do dashboard em colunas, usando columns, sidebars, containers e tabs para melhorar a usabilidade."
   ]
  },
  {
   "cell_type": "markdown",
   "metadata": {},
   "source": [
    "## 4. Obter dados e exibir informações básicas\n",
    "* Use a biblioteca StatsBombPy para carregar dados de competições, temporadas, partidas e jogadores.\n",
    "* Mostre, em uma página do dashboard, as seguintes informações:\n",
    "* Nome da competição, temporada e partida selecionada.\n",
    "* Estatísticas básicas da partida (gols, chutes, passes, etc.).\n",
    "* Um DataFrame exibindo os eventos da partida, como passes, finalizações e desarmes."
   ]
  },
  {
   "cell_type": "markdown",
   "metadata": {},
   "source": [
    "## 5. Criar visualizações de dados\n",
    "* Utilize a biblioteca mplsoccer para gerar um mapa de passes e mapa de chutes para uma partida específica. Garanta que o gráfico seja  interativo, com legendas e informações que ajudem a interpretar os dados.\n",
    "* Crie visualizações adicionais com Matplotlib e Seaborn para explorar relações entre as estatísticas de uma partida ou de um jogador (por exemplo, relação entre número de passes e gols).\n",
    "* Utilize a biblioteca mplsoccer para novas visualizações de acordo com sua galeria (https://mplsoccer.readthedocs.io/en/latest/gallery/index.html)"
   ]
  },
  {
   "cell_type": "markdown",
   "metadata": {},
   "source": [
    "## 6. Adicionar interatividade\n",
    "* Adicione seletores de jogadores e botões de filtro que permitam ao usuário visualizar apenas eventos relacionados a um jogador específico.\n",
    "* Inclua botões de download que permitam ao usuário baixar os dados filtrados da partida em formato CSV.\n",
    "* Utilize barras de progresso e spinners para informar ao usuário que os dados estão sendo carregados ou processados."
   ]
  },
  {
   "cell_type": "markdown",
   "metadata": {},
   "source": [
    "## 7. Incluir métricas e indicadores\n",
    "* Exiba indicadores numéricos usando a função metric() do Streamlit para mostrar, por exemplo:\n",
    "* Total de gols da partida.\n",
    "* Quantidade de passes bem-sucedidos de um jogador.\n",
    "* Taxa de conversão de chutes em gol.\n",
    "* Personalize esses indicadores com cores que realcem os valores mais importantes."
   ]
  },
  {
   "cell_type": "markdown",
   "metadata": {},
   "source": [
    "## 8. Criar formulários interativos\n",
    "* Desenvolva formulários simples que permitam ao usuário escolher, por exemplo, a quantidade de eventos a serem visualizados, o intervalo de tempo de uma partida ou a comparação entre dois jogadores.\n",
    "* Use elementos como caixas de texto, dropdowns, radio buttons e checkboxes para tornar a interação mais fluida."
   ]
  },
  {
   "cell_type": "markdown",
   "metadata": {},
   "source": [
    "## 9. Implementar funcionalidades avançadas\n",
    "* Utilize o Cache do Streamlit para otimizar o carregamento de dados, especialmente se estiver utilizando bases de dados grandes.\n",
    "* Armazene o estado da sessão do usuário utilizando Session State, garantindo que a interação do usuário não seja perdida quando ele navegar entre páginas."
   ]
  },
  {
   "cell_type": "markdown",
   "metadata": {},
   "source": [
    "## 10. Publicar o projeto\n",
    "* Realize o deploy da aplicação utilizando o Streamlit Community Cloud. Verifique se o deploy foi bem-sucedido e que todas as funcionalidades estão funcionando conforme esperado.\n",
    "* Compartilhe o link da aplicação publicada e o repositório no GitHub."
   ]
  }
 ],
 "metadata": {
  "language_info": {
   "name": "python"
  }
 },
 "nbformat": 4,
 "nbformat_minor": 2
}
